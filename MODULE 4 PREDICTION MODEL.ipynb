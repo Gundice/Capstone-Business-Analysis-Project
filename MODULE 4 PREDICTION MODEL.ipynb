{
 "cells": [
  {
   "cell_type": "code",
   "execution_count": null,
   "id": "de2a4e5a-58ae-4219-9aef-220707a9f4db",
   "metadata": {},
   "outputs": [
    {
     "name": "stdout",
     "output_type": "stream",
     "text": [
      "Model Performance:\n",
      "  RMSE (Root Mean Squared Error): 186596454.68\n",
      "  MAE (Mean Absolute Error): 107876851.32\n",
      "  R2 Score (Coefficient of Determination): 0.36\n",
      "\n",
      "Explanation of Performance Metrics:\n",
      "The metrics above provide insights into the performance of the model:\n",
      "- RMSE (Root Mean Squared Error): Indicates the average magnitude of the prediction errors. A lower RMSE suggests better model performance, but it can be influenced by outliers.\n",
      "- MAE (Mean Absolute Error): Measures the average absolute errors in the predictions. It provides a more intuitive understanding of the model's accuracy, with lower values indicating better performance.\n",
      "- R2 Score (Coefficient of Determination): Represents the proportion of variance in the dependent variable that is predictable from the independent variables. A higher R2 indicates a better fit of the model to the data.\n",
      "\n",
      "Note on Model Performance:\n",
      "Predicting movie box office success is inherently complex due to several factors:\n",
      "- Market Dynamics: The movie industry is influenced by various unpredictable elements such as audience preferences, competition, and marketing strategies.\n",
      "- Data Limitations: The dataset may not capture all relevant factors that contribute to a movie's success, such as social media buzz, critical reviews, and regional variations.\n",
      "- Feature Limitations: Despite including key features, the model may not fully account for the nuanced impact of each feature on box office performance.\n",
      "The high error figures reflect these challenges and uncertainties. While the model provides estimates, they should be interpreted with caution, acknowledging the unpredictability of the movie industry.\n",
      "\n",
      "Feature Importances:\n",
      "casts: 0.0327\n",
      "directors: 0.0731\n",
      "writers: 0.0599\n",
      "budget: 0.7470\n",
      "rating: 0.0315\n",
      "run_time: 0.0558\n",
      "\n",
      "Cross-Validation RMSE Scores: [2.97591793e+08 3.05472918e+08 1.07748915e+08 2.16917809e+08\n",
      " 2.07181158e+08]\n",
      "Mean RMSE from Cross-Validation: 226982518.61123428\n",
      "\n",
      "Welcome to Box Office Predictor!\n",
      "Enter details below to predict box office earnings or type 'quit' to exit.\n"
     ]
    },
    {
     "name": "stdin",
     "output_type": "stream",
     "text": [
      "Enter Lead Cast:  Sylvester Stallone\n",
      "Enter Director:  John G. Avildsen\n",
      "Enter Writer:  Sylvester Stallone\n",
      "Enter Budget ($):  960000\n",
      "Enter Movie Rating:  5\n",
      "Enter Runtime (minutes):  120\n"
     ]
    },
    {
     "name": "stdout",
     "output_type": "stream",
     "text": [
      "\n",
      "Estimated Box Office Earnings: $83375084.48\n",
      "\n",
      "Welcome to Box Office Predictor!\n",
      "Enter details below to predict box office earnings or type 'quit' to exit.\n"
     ]
    },
    {
     "name": "stdin",
     "output_type": "stream",
     "text": [
      "Enter Lead Cast:    Sylvester Stallone\n",
      "Enter Director:   John G. Avildsen\n",
      "Enter Writer:    Sylvester Stallone\n",
      "Enter Budget ($):  960000\n",
      "Enter Movie Rating:  10\n",
      "Enter Runtime (minutes):  120\n"
     ]
    },
    {
     "name": "stdout",
     "output_type": "stream",
     "text": [
      "Error: y contains previously unseen labels: '  Sylvester Stallone'\n",
      "\n",
      "Welcome to Box Office Predictor!\n",
      "Enter details below to predict box office earnings or type 'quit' to exit.\n"
     ]
    },
    {
     "name": "stdin",
     "output_type": "stream",
     "text": [
      "Enter Lead Cast:  Sylvester Stallone\n",
      "Enter Director:   John G. Avildsen\n",
      "Enter Writer:  Sylvester Stallone\n",
      "Enter Budget ($):  960000\n",
      "Enter Movie Rating:  4\n",
      "Enter Runtime (minutes):  12\n"
     ]
    },
    {
     "name": "stdout",
     "output_type": "stream",
     "text": [
      "Error: y contains previously unseen labels: ' John G. Avildsen'\n",
      "\n",
      "Welcome to Box Office Predictor!\n",
      "Enter details below to predict box office earnings or type 'quit' to exit.\n"
     ]
    },
    {
     "name": "stdin",
     "output_type": "stream",
     "text": [
      "Enter Lead Cast:  Toni Collette\n",
      "Enter Director:  Adam Elliot\n",
      "Enter Writer:  Adam Elliot\n",
      "Enter Budget ($):  8200000\n",
      "Enter Movie Rating:  10\n",
      "Enter Runtime (minutes):  120\n"
     ]
    },
    {
     "name": "stdout",
     "output_type": "stream",
     "text": [
      "\n",
      "Estimated Box Office Earnings: $170302131.17\n",
      "\n",
      "Welcome to Box Office Predictor!\n",
      "Enter details below to predict box office earnings or type 'quit' to exit.\n"
     ]
    },
    {
     "name": "stdin",
     "output_type": "stream",
     "text": [
      "Enter Lead Cast:  Sylvester Stallone\n",
      "Enter Director:  John G. Avildsen\n",
      "Enter Writer:  Sylvester Stallone\n",
      "Enter Budget ($):  960000\n",
      "Enter Movie Rating:  10\n",
      "Enter Runtime (minutes):  120\n"
     ]
    },
    {
     "name": "stdout",
     "output_type": "stream",
     "text": [
      "\n",
      "Estimated Box Office Earnings: $47077870.64\n",
      "\n",
      "Welcome to Box Office Predictor!\n",
      "Enter details below to predict box office earnings or type 'quit' to exit.\n"
     ]
    },
    {
     "name": "stdin",
     "output_type": "stream",
     "text": [
      "Enter Lead Cast:  Sylvester Stallone\n",
      "Enter Director:  John G. Avildsen\n",
      "Enter Writer:  Sylvester Stallone\n",
      "Enter Budget ($):  960000\n",
      "Enter Movie Rating:  7\n",
      "Enter Runtime (minutes):  120\n"
     ]
    },
    {
     "name": "stdout",
     "output_type": "stream",
     "text": [
      "\n",
      "Estimated Box Office Earnings: $83375084.48\n",
      "\n",
      "Welcome to Box Office Predictor!\n",
      "Enter details below to predict box office earnings or type 'quit' to exit.\n"
     ]
    },
    {
     "name": "stdin",
     "output_type": "stream",
     "text": [
      "Enter Lead Cast:  Sylvester Stallone\n",
      "Enter Director:  John G. Avildsen\n",
      "Enter Writer:  Sylvester Stallone\n",
      "Enter Budget ($):  960000\n",
      "Enter Movie Rating:  1\n",
      "Enter Runtime (minutes):  120\n"
     ]
    },
    {
     "name": "stdout",
     "output_type": "stream",
     "text": [
      "\n",
      "Estimated Box Office Earnings: $83375084.48\n",
      "\n",
      "Welcome to Box Office Predictor!\n",
      "Enter details below to predict box office earnings or type 'quit' to exit.\n"
     ]
    },
    {
     "name": "stdin",
     "output_type": "stream",
     "text": [
      "Enter Lead Cast:  Sylvester Stallone\n",
      "Enter Director:  John G. Avildsen\n",
      "Enter Writer:  Sylvester Stallone\n",
      "Enter Budget ($):  960000\n",
      "Enter Movie Rating:  0\n",
      "Enter Runtime (minutes):  300\n"
     ]
    },
    {
     "name": "stdout",
     "output_type": "stream",
     "text": [
      "\n",
      "Estimated Box Office Earnings: $282928188.08\n",
      "\n",
      "Welcome to Box Office Predictor!\n",
      "Enter details below to predict box office earnings or type 'quit' to exit.\n"
     ]
    },
    {
     "name": "stdin",
     "output_type": "stream",
     "text": [
      "Enter Lead Cast:  Sylvester Stallone\n",
      "Enter Director:  John G. Avildsen\n",
      "Enter Writer:  Sylvester Stallone\n",
      "Enter Budget ($):  960000\n",
      "Enter Movie Rating:  3\n",
      "Enter Runtime (minutes):  3\n"
     ]
    },
    {
     "name": "stdout",
     "output_type": "stream",
     "text": [
      "\n",
      "Estimated Box Office Earnings: $69859874.41\n",
      "\n",
      "Welcome to Box Office Predictor!\n",
      "Enter details below to predict box office earnings or type 'quit' to exit.\n"
     ]
    }
   ],
   "source": [
    "import pandas as pd\n",
    "import numpy as np\n",
    "from sklearn.model_selection import train_test_split, cross_val_score\n",
    "from sklearn.ensemble import RandomForestRegressor\n",
    "from sklearn.metrics import mean_squared_error, mean_absolute_error, r2_score\n",
    "from sklearn.preprocessing import LabelEncoder, StandardScaler\n",
    "import matplotlib.pyplot as plt\n",
    "\n",
    "# Load the dataset\n",
    "file_path = r\"C:\\Users\\Hp\\Desktop\\BUS Assignments\\capstone\\IMDB Top 250 Movies.csv\"\n",
    "df = pd.read_csv(file_path, encoding='ISO-8859-1')\n",
    "\n",
    "# Feature Engineering - Label encoding for categorical variables\n",
    "le_cast = LabelEncoder()\n",
    "le_director = LabelEncoder()\n",
    "le_writer = LabelEncoder()\n",
    "\n",
    "df['casts'] = le_cast.fit_transform(df['casts'])\n",
    "df['directors'] = le_director.fit_transform(df['directors'])\n",
    "df['writers'] = le_writer.fit_transform(df['writers'])\n",
    "\n",
    "# Define features and target\n",
    "features = ['casts', 'directors', 'writers', 'budget', 'rating', 'run_time']\n",
    "X = df[features]\n",
    "y = df['box_office']\n",
    "\n",
    "# Train-test split\n",
    "X_train, X_test, y_train, y_test = train_test_split(X, y, test_size=0.2, random_state=42)\n",
    "\n",
    "# Scale numerical features\n",
    "scaler = StandardScaler()\n",
    "X_train_scaled = scaler.fit_transform(X_train)\n",
    "X_test_scaled = scaler.transform(X_test)\n",
    "\n",
    "# Random Forest model\n",
    "model = RandomForestRegressor(n_estimators=100, random_state=42)\n",
    "model.fit(X_train_scaled, y_train)\n",
    "\n",
    "# Evaluate the model\n",
    "y_pred = model.predict(X_test_scaled)\n",
    "rmse = np.sqrt(mean_squared_error(y_test, y_pred))\n",
    "mae = mean_absolute_error(y_test, y_pred)\n",
    "r2 = r2_score(y_test, y_pred)\n",
    "\n",
    "print(f\"Model Performance:\")\n",
    "print(f\"  RMSE (Root Mean Squared Error): {rmse:.2f}\")\n",
    "print(f\"  MAE (Mean Absolute Error): {mae:.2f}\")\n",
    "print(f\"  R2 Score (Coefficient of Determination): {r2:.2f}\")\n",
    "\n",
    "print(\"\\nExplanation of Performance Metrics:\")\n",
    "print(\"The metrics above provide insights into the performance of the model:\")\n",
    "print(\"- RMSE (Root Mean Squared Error): Indicates the average magnitude of the prediction errors. A lower RMSE suggests better model performance, but it can be influenced by outliers.\")\n",
    "print(\"- MAE (Mean Absolute Error): Measures the average absolute errors in the predictions. It provides a more intuitive understanding of the model's accuracy, with lower values indicating better performance.\")\n",
    "print(\"- R2 Score (Coefficient of Determination): Represents the proportion of variance in the dependent variable that is predictable from the independent variables. A higher R2 indicates a better fit of the model to the data.\")\n",
    "\n",
    "print(\"\\nNote on Model Performance:\")\n",
    "print(\"Predicting movie box office success is inherently complex due to several factors:\")\n",
    "print(\"- Market Dynamics: The movie industry is influenced by various unpredictable elements such as audience preferences, competition, and marketing strategies.\")\n",
    "print(\"- Data Limitations: The dataset may not capture all relevant factors that contribute to a movie's success, such as social media buzz, critical reviews, and regional variations.\")\n",
    "print(\"- Feature Limitations: Despite including key features, the model may not fully account for the nuanced impact of each feature on box office performance.\")\n",
    "print(\"The high error figures reflect these challenges and uncertainties. While the model provides estimates, they should be interpreted with caution, acknowledging the unpredictability of the movie industry.\")\n",
    "\n",
    "# Feature importance\n",
    "importances = model.feature_importances_\n",
    "feature_importances = dict(zip(features, importances))\n",
    "print(\"\\nFeature Importances:\")\n",
    "for feature, importance in feature_importances.items():\n",
    "    print(f\"{feature}: {importance:.4f}\")\n",
    "\n",
    "# Cross-validation\n",
    "scores = cross_val_score(model, X, y, cv=5, scoring='neg_mean_squared_error')\n",
    "rmse_scores = np.sqrt(-scores)\n",
    "print(\"\\nCross-Validation RMSE Scores:\", rmse_scores)\n",
    "print(\"Mean RMSE from Cross-Validation:\", rmse_scores.mean())\n",
    "\n",
    "# Interactive segment\n",
    "def predict_box_office(cast, director, writer, budget, rating, run_time):\n",
    "    # Encoding categorical variables\n",
    "    cast_encoded = le_cast.transform([cast])[0]\n",
    "    director_encoded = le_director.transform([director])[0]\n",
    "    writer_encoded = le_writer.transform([writer])[0]\n",
    "    \n",
    "    # Create a DataFrame for prediction\n",
    "    input_data = pd.DataFrame([[cast_encoded, director_encoded, writer_encoded, budget, rating, run_time]],\n",
    "                              columns=features)\n",
    "    \n",
    "    # Scale the input data\n",
    "    input_data_scaled = scaler.transform(input_data)\n",
    "    \n",
    "    # Predict\n",
    "    return model.predict(input_data_scaled)[0]\n",
    "\n",
    "while True:\n",
    "    print(\"\\nWelcome to Box Office Predictor!\")\n",
    "    print(\"Enter details below to predict box office earnings or type 'quit' to exit.\")\n",
    "    \n",
    "    cast = input(\"Enter Lead Cast: \")\n",
    "    if cast.lower() == 'quit':\n",
    "        break\n",
    "    \n",
    "    director = input(\"Enter Director: \")\n",
    "    if director.lower() == 'quit':\n",
    "        break\n",
    "    \n",
    "    writer = input(\"Enter Writer: \")\n",
    "    if writer.lower() == 'quit':\n",
    "        break\n",
    "    \n",
    "    try:\n",
    "        budget = float(input(\"Enter Budget ($): \"))\n",
    "        rating = float(input(\"Enter Movie Rating: \"))\n",
    "        run_time = int(input(\"Enter Runtime (minutes): \"))\n",
    "        \n",
    "        # Predict box office earnings\n",
    "        estimated_earnings = predict_box_office(cast, director, writer, budget, rating, run_time)\n",
    "        \n",
    "        print(f\"\\nEstimated Box Office Earnings: ${estimated_earnings:.2f}\")\n",
    "        \n",
    "    except ValueError as ve:\n",
    "        print(f\"Error: {ve}\")\n",
    "    except Exception as e:\n",
    "        print(f\"An unexpected error occurred: {e}\")\n",
    "\n"
   ]
  },
  {
   "cell_type": "code",
   "execution_count": null,
   "id": "60f3e4cb-7159-4ed3-ad78-6f15188e12c7",
   "metadata": {},
   "outputs": [],
   "source": []
  }
 ],
 "metadata": {
  "kernelspec": {
   "display_name": "Python 3 (ipykernel)",
   "language": "python",
   "name": "python3"
  },
  "language_info": {
   "codemirror_mode": {
    "name": "ipython",
    "version": 3
   },
   "file_extension": ".py",
   "mimetype": "text/x-python",
   "name": "python",
   "nbconvert_exporter": "python",
   "pygments_lexer": "ipython3",
   "version": "3.12.4"
  }
 },
 "nbformat": 4,
 "nbformat_minor": 5
}
